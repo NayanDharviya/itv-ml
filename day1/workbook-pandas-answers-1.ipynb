{
 "cells": [
  {
   "cell_type": "markdown",
   "metadata": {},
   "source": [
    "# Exercises in pandas"
   ]
  },
  {
   "cell_type": "code",
   "execution_count": 2,
   "metadata": {
    "collapsed": true
   },
   "outputs": [],
   "source": [
    "import numpy as np\n",
    "import pandas as pd"
   ]
  },
  {
   "cell_type": "markdown",
   "metadata": {},
   "source": [
    "### Exercise 1\n",
    "\n",
    "Create a pandas series object from elements [4, 7, -5, 3]. Call it data"
   ]
  },
  {
   "cell_type": "code",
   "execution_count": 4,
   "metadata": {},
   "outputs": [
    {
     "data": {
      "text/plain": [
       "0    4\n",
       "1    7\n",
       "2    5\n",
       "3   -3\n",
       "dtype: int64"
      ]
     },
     "execution_count": 4,
     "metadata": {},
     "output_type": "execute_result"
    }
   ],
   "source": [
    "data = pd.Series([4,7,5,-3])\n",
    "data"
   ]
  },
  {
   "cell_type": "markdown",
   "metadata": {},
   "source": [
    "### Exercise 2\n",
    "\n",
    "Create a pandas series object from elements [4, 7, -5, 3] and index ['d', 'b', 'a', 'c']. Call it data2"
   ]
  },
  {
   "cell_type": "code",
   "execution_count": 6,
   "metadata": {},
   "outputs": [
    {
     "data": {
      "text/plain": [
       "d    4\n",
       "b    7\n",
       "a    5\n",
       "c   -3\n",
       "dtype: int64"
      ]
     },
     "execution_count": 6,
     "metadata": {},
     "output_type": "execute_result"
    }
   ],
   "source": [
    "data = pd.Series([4,7,5,-3], index=['d', 'b', 'a', 'c'])\n",
    "data"
   ]
  },
  {
   "cell_type": "markdown",
   "metadata": {},
   "source": [
    "### Exercise 3\n",
    "\n",
    "\n",
    "Create a pandas series object from sdata using cities as index"
   ]
  },
  {
   "cell_type": "code",
   "execution_count": 7,
   "metadata": {},
   "outputs": [
    {
     "data": {
      "text/html": [
       "<div>\n",
       "<style scoped>\n",
       "    .dataframe tbody tr th:only-of-type {\n",
       "        vertical-align: middle;\n",
       "    }\n",
       "\n",
       "    .dataframe tbody tr th {\n",
       "        vertical-align: top;\n",
       "    }\n",
       "\n",
       "    .dataframe thead th {\n",
       "        text-align: right;\n",
       "    }\n",
       "</style>\n",
       "<table border=\"1\" class=\"dataframe\">\n",
       "  <thead>\n",
       "    <tr style=\"text-align: right;\">\n",
       "      <th></th>\n",
       "      <th>Mumbai</th>\n",
       "      <th>Hyderabad</th>\n",
       "      <th>Kanpur</th>\n",
       "      <th>Ahmedabad</th>\n",
       "    </tr>\n",
       "  </thead>\n",
       "  <tbody>\n",
       "    <tr>\n",
       "      <th>Hyderabad</th>\n",
       "      <td>35000</td>\n",
       "      <td>71000</td>\n",
       "      <td>16000</td>\n",
       "      <td>5000</td>\n",
       "    </tr>\n",
       "    <tr>\n",
       "      <th>Mumbai</th>\n",
       "      <td>35000</td>\n",
       "      <td>71000</td>\n",
       "      <td>16000</td>\n",
       "      <td>5000</td>\n",
       "    </tr>\n",
       "    <tr>\n",
       "      <th>Ahmedabad</th>\n",
       "      <td>35000</td>\n",
       "      <td>71000</td>\n",
       "      <td>16000</td>\n",
       "      <td>5000</td>\n",
       "    </tr>\n",
       "    <tr>\n",
       "      <th>Kanpur</th>\n",
       "      <td>35000</td>\n",
       "      <td>71000</td>\n",
       "      <td>16000</td>\n",
       "      <td>5000</td>\n",
       "    </tr>\n",
       "    <tr>\n",
       "      <th>Pune</th>\n",
       "      <td>35000</td>\n",
       "      <td>71000</td>\n",
       "      <td>16000</td>\n",
       "      <td>5000</td>\n",
       "    </tr>\n",
       "  </tbody>\n",
       "</table>\n",
       "</div>"
      ],
      "text/plain": [
       "           Mumbai  Hyderabad  Kanpur  Ahmedabad\n",
       "Hyderabad   35000      71000   16000       5000\n",
       "Mumbai      35000      71000   16000       5000\n",
       "Ahmedabad   35000      71000   16000       5000\n",
       "Kanpur      35000      71000   16000       5000\n",
       "Pune        35000      71000   16000       5000"
      ]
     },
     "execution_count": 7,
     "metadata": {},
     "output_type": "execute_result"
    }
   ],
   "source": [
    "sdata = {'Mumbai': 35000, 'Hyderabad': 71000, 'Kanpur': 16000, 'Ahmedabad': 5000}\n",
    "cities = ['Hyderabad', 'Mumbai', 'Ahmedabad', 'Kanpur','Pune']\n",
    "### Your code here ###\n",
    "data = pd.DataFrame(sdata, index=cities)\n",
    "data"
   ]
  },
  {
   "cell_type": "markdown",
   "metadata": {},
   "source": [
    "### Exercise 4\n",
    "\n",
    "use pd.isnull to find if any of the elements of the series is null"
   ]
  },
  {
   "cell_type": "code",
   "execution_count": 9,
   "metadata": {},
   "outputs": [
    {
     "data": {
      "text/html": [
       "<div>\n",
       "<style scoped>\n",
       "    .dataframe tbody tr th:only-of-type {\n",
       "        vertical-align: middle;\n",
       "    }\n",
       "\n",
       "    .dataframe tbody tr th {\n",
       "        vertical-align: top;\n",
       "    }\n",
       "\n",
       "    .dataframe thead th {\n",
       "        text-align: right;\n",
       "    }\n",
       "</style>\n",
       "<table border=\"1\" class=\"dataframe\">\n",
       "  <thead>\n",
       "    <tr style=\"text-align: right;\">\n",
       "      <th></th>\n",
       "      <th>Mumbai</th>\n",
       "      <th>Hyderabad</th>\n",
       "      <th>Kanpur</th>\n",
       "      <th>Ahmedabad</th>\n",
       "    </tr>\n",
       "  </thead>\n",
       "  <tbody>\n",
       "    <tr>\n",
       "      <th>Hyderabad</th>\n",
       "      <td>False</td>\n",
       "      <td>False</td>\n",
       "      <td>False</td>\n",
       "      <td>False</td>\n",
       "    </tr>\n",
       "    <tr>\n",
       "      <th>Mumbai</th>\n",
       "      <td>False</td>\n",
       "      <td>False</td>\n",
       "      <td>False</td>\n",
       "      <td>False</td>\n",
       "    </tr>\n",
       "    <tr>\n",
       "      <th>Ahmedabad</th>\n",
       "      <td>False</td>\n",
       "      <td>False</td>\n",
       "      <td>False</td>\n",
       "      <td>False</td>\n",
       "    </tr>\n",
       "    <tr>\n",
       "      <th>Kanpur</th>\n",
       "      <td>False</td>\n",
       "      <td>False</td>\n",
       "      <td>False</td>\n",
       "      <td>False</td>\n",
       "    </tr>\n",
       "    <tr>\n",
       "      <th>Pune</th>\n",
       "      <td>False</td>\n",
       "      <td>False</td>\n",
       "      <td>False</td>\n",
       "      <td>False</td>\n",
       "    </tr>\n",
       "  </tbody>\n",
       "</table>\n",
       "</div>"
      ],
      "text/plain": [
       "           Mumbai  Hyderabad  Kanpur  Ahmedabad\n",
       "Hyderabad   False      False   False      False\n",
       "Mumbai      False      False   False      False\n",
       "Ahmedabad   False      False   False      False\n",
       "Kanpur      False      False   False      False\n",
       "Pune        False      False   False      False"
      ]
     },
     "execution_count": 9,
     "metadata": {},
     "output_type": "execute_result"
    }
   ],
   "source": [
    "### Your code here ###\n",
    "data.isnull()"
   ]
  },
  {
   "cell_type": "markdown",
   "metadata": {},
   "source": [
    "### Exercise 5\n",
    "\n",
    "\n",
    "Create a dataframe df from data. <br>\n",
    "(a) Print the first 2 rows. <br>\n",
    "(b) Print the column 'state' <br>\n",
    "(c) Use index =['one', 'two', 'three', 'four','five', 'six'] <br>\n",
    "(d) Print row with index 'three'"
   ]
  },
  {
   "cell_type": "code",
   "execution_count": 10,
   "metadata": {},
   "outputs": [
    {
     "name": "stdout",
     "output_type": "stream",
     "text": [
      "         state  year  pop\n",
      "0           AP  2000  1.5\n",
      "1  Maharashtra  2001  1.7\n",
      "0             AP\n",
      "1    Maharashtra\n",
      "2      Himanchal\n",
      "3         Punjab\n",
      "4             UP\n",
      "5         Punjab\n",
      "Name: state, dtype: object\n"
     ]
    },
    {
     "data": {
      "text/plain": [
       "state    Himanchal\n",
       "year          2002\n",
       "pop            3.6\n",
       "Name: three, dtype: object"
      ]
     },
     "execution_count": 10,
     "metadata": {},
     "output_type": "execute_result"
    }
   ],
   "source": [
    "data = {'state': ['AP', 'Maharashtra', 'Himanchal', 'Punjab', 'UP', 'Punjab'],\n",
    "        'year': [2000, 2001, 2002, 2001, 2002, 2003],\n",
    "        'pop': [1.5, 1.7, 3.6, 2.4, 2.9, 3.2]} \n",
    "        \n",
    "### Your code here ###\n",
    "df = pd.DataFrame(data)\n",
    "print(df.head(2))\n",
    "print(df['state'])\n",
    "df.index = ['one', 'two', 'three', 'four','five', 'six']\n",
    "df.loc['three']"
   ]
  },
  {
   "cell_type": "markdown",
   "metadata": {},
   "source": [
    "### Exercise 6\n",
    "                   \n",
    "(a) Print all rows of data where data['one'] < 5 <br>\n",
    "(b) create a dataframe data2 with columns 'two' and 'three' of data<br>\n",
    "(c) Print columns 'two' and 'four' of index 'Gurjat'<br>\n",
    "(d) Print row 2<br>\n",
    "(e) Print columns 'two' and 'four' of index upto 'Kerala'<br>"
   ]
  },
  {
   "cell_type": "code",
   "execution_count": 11,
   "metadata": {},
   "outputs": [
    {
     "name": "stdout",
     "output_type": "stream",
     "text": [
      "        one  two  three  four\n",
      "Punjab    0    1      2     3\n",
      "Gujrat    4    5      6     7\n",
      "two      5\n",
      "three    6\n",
      "Name: Gujrat, dtype: int64\n",
      "<pandas.core.indexing._iLocIndexer object at 0x7f0c7089dc28>\n",
      "        two  four\n",
      "Punjab    1     3\n",
      "Gujrat    5     7\n",
      "Kerala    9    11\n"
     ]
    }
   ],
   "source": [
    "data = pd.DataFrame(np.arange(16).reshape((4, 4)),index=['Punjab', 'Gujrat', 'Kerala', 'UP'], \n",
    "                    columns=['one', 'two', 'three', 'four']) \n",
    "### YOur code here\n",
    "print(data[data['one'] < 5])\n",
    "data2 = data[['two', 'three']]\n",
    "print(data.loc['Gujrat', ['two', 'three']])\n",
    "print(data.iloc(1))\n",
    "print(data.loc[:'Kerala', ['two', 'four']])"
   ]
  },
  {
   "cell_type": "markdown",
   "metadata": {},
   "source": [
    "### Exercise 7\n",
    "\n",
    "(a) Apply x.min() to each row of df1 using 'apply' <br>\n",
    "(b) Add 2 to each element of col 'c' in df1 using 'map' <br>\n",
    "(c) Using applymap add 1000 to each element of the dataframe df1 <br>"
   ]
  },
  {
   "cell_type": "code",
   "execution_count": 16,
   "metadata": {},
   "outputs": [
    {
     "name": "stdout",
     "output_type": "stream",
     "text": [
      "             b    c    d\n",
      "MP         0.0  1.0  2.0\n",
      "Tamilnadu  3.0  4.0  5.0\n",
      "Rajasthan  6.0  7.0  8.0\n",
      "                b       c       d\n",
      "MP         1000.0  1003.0  1002.0\n",
      "Tamilnadu  1003.0  1006.0  1005.0\n",
      "Rajasthan  1006.0  1009.0  1008.0\n"
     ]
    }
   ],
   "source": [
    "df1 = pd.DataFrame(np.arange(9.).reshape((3, 3)), columns=list('bcd'),index=['MP', 'Tamilnadu', 'Rajasthan'])\n",
    "### Your code here\n",
    "print(df1)\n",
    "df1.apply(lambda x: x.min())\n",
    "df1['c'] = df1.c.map(lambda x: x+2)\n",
    "df1 = df1.applymap(lambda x: x+ 1000)\n",
    "print(df1)"
   ]
  },
  {
   "cell_type": "markdown",
   "metadata": {},
   "source": [
    "### Exercise 8\n",
    "\n",
    "(a) Sort index of df2 lexicographically <br>\n",
    "(b) Reset and drop index of df2  <br>\n",
    "(c) Print the number of unique values in each col of df2 <br>\n",
    "(d) Print the number of occurences of each value of each column of df2 <br>"
   ]
  },
  {
   "cell_type": "code",
   "execution_count": 17,
   "metadata": {},
   "outputs": [
    {
     "name": "stdout",
     "output_type": "stream",
     "text": [
      "             b     d     e\n",
      "Goa        0.0   1.0   2.0\n",
      "MP         3.0   4.0   5.0\n",
      "Rajasthan  9.0  10.0  11.0\n",
      "Tamilnadu  6.0   7.0   8.0\n",
      "4\n",
      "4\n",
      "4\n",
      "9.0    1\n",
      "6.0    1\n",
      "3.0    1\n",
      "0.0    1\n",
      "Name: b, dtype: int64\n",
      "10.0    1\n",
      "7.0     1\n",
      "4.0     1\n",
      "1.0     1\n",
      "Name: d, dtype: int64\n",
      "11.0    1\n",
      "8.0     1\n",
      "5.0     1\n",
      "2.0     1\n",
      "Name: e, dtype: int64\n"
     ]
    }
   ],
   "source": [
    "df2 = pd.DataFrame(np.arange(12.).reshape((4, 3)), columns=list('bde'),index=['Goa', 'MP', 'Tamilnadu', 'Rajasthan'])\n",
    "### Your code here\n",
    "print(df2.sort_index())\n",
    "df2.reset_index(drop=True)\n",
    "for col in list(df2.columns):\n",
    "    print(df2[col].nunique())\n",
    "for col in list(df2.columns):\n",
    "    print(df2[col].value_counts())"
   ]
  },
  {
   "cell_type": "markdown",
   "metadata": {},
   "source": [
    "### Exercise 9\n",
    "\n",
    "(a) Print correlation between microsoft and IBM using returns dataframe <br>\n",
    "(a) Print covariance between microsoft and IBM using returns dataframe<br>"
   ]
  },
  {
   "cell_type": "code",
   "execution_count": 20,
   "metadata": {},
   "outputs": [
    {
     "data": {
      "text/plain": [
       "8.734553290360266e-05"
      ]
     },
     "execution_count": 20,
     "metadata": {},
     "output_type": "execute_result"
    }
   ],
   "source": [
    "import pandas_datareader.data as web \n",
    "all_data = {ticker: web.get_data_yahoo(ticker) \n",
    "            for ticker in ['AAPL', 'IBM', 'MSFT', 'GOOG']} \n",
    "\n",
    "price = pd.DataFrame({ticker: data['Adj Close']\n",
    "                     for ticker, data in all_data.items()})\n",
    "volume = pd.DataFrame({ticker: data['Volume']\n",
    "                      for ticker, data in all_data.items()})\n",
    "returns = price.pct_change()\n",
    "\n",
    "### Your code here\n",
    "returns['MSFT'].corr(returns['IBM'])\n",
    "returns['MSFT'].cov(returns['IBM'])"
   ]
  },
  {
   "cell_type": "markdown",
   "metadata": {},
   "source": [
    "### Exercise 10\n",
    "\n",
    "(a) Using read_csv load the file '../datasets/ex1.csv' into a dataframe data <br>\n",
    "(b) Print all elements of data <br>"
   ]
  },
  {
   "cell_type": "code",
   "execution_count": 22,
   "metadata": {},
   "outputs": [
    {
     "data": {
      "text/html": [
       "<div>\n",
       "<style scoped>\n",
       "    .dataframe tbody tr th:only-of-type {\n",
       "        vertical-align: middle;\n",
       "    }\n",
       "\n",
       "    .dataframe tbody tr th {\n",
       "        vertical-align: top;\n",
       "    }\n",
       "\n",
       "    .dataframe thead th {\n",
       "        text-align: right;\n",
       "    }\n",
       "</style>\n",
       "<table border=\"1\" class=\"dataframe\">\n",
       "  <thead>\n",
       "    <tr style=\"text-align: right;\">\n",
       "      <th></th>\n",
       "      <th>a</th>\n",
       "      <th>b</th>\n",
       "      <th>c</th>\n",
       "      <th>d</th>\n",
       "      <th>message</th>\n",
       "    </tr>\n",
       "  </thead>\n",
       "  <tbody>\n",
       "    <tr>\n",
       "      <th>0</th>\n",
       "      <td>1</td>\n",
       "      <td>2</td>\n",
       "      <td>3</td>\n",
       "      <td>4</td>\n",
       "      <td>hello</td>\n",
       "    </tr>\n",
       "    <tr>\n",
       "      <th>1</th>\n",
       "      <td>5</td>\n",
       "      <td>6</td>\n",
       "      <td>7</td>\n",
       "      <td>8</td>\n",
       "      <td>world</td>\n",
       "    </tr>\n",
       "    <tr>\n",
       "      <th>2</th>\n",
       "      <td>9</td>\n",
       "      <td>10</td>\n",
       "      <td>11</td>\n",
       "      <td>12</td>\n",
       "      <td>foo</td>\n",
       "    </tr>\n",
       "  </tbody>\n",
       "</table>\n",
       "</div>"
      ],
      "text/plain": [
       "   a   b   c   d message\n",
       "0  1   2   3   4   hello\n",
       "1  5   6   7   8   world\n",
       "2  9  10  11  12     foo"
      ]
     },
     "execution_count": 22,
     "metadata": {},
     "output_type": "execute_result"
    }
   ],
   "source": [
    "### Your code here\n",
    "data = pd.read_csv('../datasets/ex1.csv')\n",
    "data"
   ]
  },
  {
   "cell_type": "markdown",
   "metadata": {},
   "source": [
    "### Exercise 11\n",
    "\n",
    "Using pd.read_csv read '../datasets/ex6.csv' in chunks of 1000"
   ]
  },
  {
   "cell_type": "code",
   "execution_count": 27,
   "metadata": {},
   "outputs": [],
   "source": [
    "### Your code here\n",
    "chunk = pd.read_csv('../datasets/ex6.csv', chunksize=1000)"
   ]
  },
  {
   "cell_type": "markdown",
   "metadata": {},
   "source": [
    "### Exercise 12 \n",
    "\n",
    "Using pd.read_csv read '../datasets/ex7.csv' with header=None"
   ]
  },
  {
   "cell_type": "code",
   "execution_count": 23,
   "metadata": {},
   "outputs": [
    {
     "data": {
      "text/html": [
       "<div>\n",
       "<style scoped>\n",
       "    .dataframe tbody tr th:only-of-type {\n",
       "        vertical-align: middle;\n",
       "    }\n",
       "\n",
       "    .dataframe tbody tr th {\n",
       "        vertical-align: top;\n",
       "    }\n",
       "\n",
       "    .dataframe thead th {\n",
       "        text-align: right;\n",
       "    }\n",
       "</style>\n",
       "<table border=\"1\" class=\"dataframe\">\n",
       "  <thead>\n",
       "    <tr style=\"text-align: right;\">\n",
       "      <th></th>\n",
       "      <th>0</th>\n",
       "      <th>1</th>\n",
       "      <th>2</th>\n",
       "    </tr>\n",
       "  </thead>\n",
       "  <tbody>\n",
       "    <tr>\n",
       "      <th>0</th>\n",
       "      <td>a</td>\n",
       "      <td>b</td>\n",
       "      <td>c</td>\n",
       "    </tr>\n",
       "    <tr>\n",
       "      <th>1</th>\n",
       "      <td>1</td>\n",
       "      <td>2</td>\n",
       "      <td>3</td>\n",
       "    </tr>\n",
       "    <tr>\n",
       "      <th>2</th>\n",
       "      <td>1</td>\n",
       "      <td>2</td>\n",
       "      <td>3</td>\n",
       "    </tr>\n",
       "  </tbody>\n",
       "</table>\n",
       "</div>"
      ],
      "text/plain": [
       "   0  1  2\n",
       "0  a  b  c\n",
       "1  1  2  3\n",
       "2  1  2  3"
      ]
     },
     "execution_count": 23,
     "metadata": {},
     "output_type": "execute_result"
    }
   ],
   "source": [
    "### your code here\n",
    "data = pd.read_csv('../datasets/ex7.csv', header=None)\n",
    "data"
   ]
  },
  {
   "cell_type": "code",
   "execution_count": null,
   "metadata": {
    "collapsed": true
   },
   "outputs": [],
   "source": []
  }
 ],
 "metadata": {
  "kernelspec": {
   "display_name": "itv",
   "language": "python",
   "name": "itv"
  },
  "language_info": {
   "codemirror_mode": {
    "name": "ipython",
    "version": 3
   },
   "file_extension": ".py",
   "mimetype": "text/x-python",
   "name": "python",
   "nbconvert_exporter": "python",
   "pygments_lexer": "ipython3",
   "version": "3.6.3"
  }
 },
 "nbformat": 4,
 "nbformat_minor": 2
}
