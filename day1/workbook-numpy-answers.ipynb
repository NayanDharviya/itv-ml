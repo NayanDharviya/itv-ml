{
 "cells": [
  {
   "cell_type": "markdown",
   "metadata": {},
   "source": [
    "# Exercises in numpy"
   ]
  },
  {
   "cell_type": "code",
   "execution_count": 1,
   "metadata": {
    "collapsed": true
   },
   "outputs": [],
   "source": [
    "import numpy as np"
   ]
  },
  {
   "cell_type": "markdown",
   "metadata": {},
   "source": [
    "### Exercise 1\n",
    "\n",
    "Create a numpy array of 8 rows and 4 columns which takes samples from the standard normal distribution. Call it data"
   ]
  },
  {
   "cell_type": "code",
   "execution_count": 2,
   "metadata": {},
   "outputs": [],
   "source": [
    "data = np.random.randn(8,3)"
   ]
  },
  {
   "cell_type": "markdown",
   "metadata": {},
   "source": [
    "### Exercise 2\n",
    "\n",
    "Multiply each element of data by itself"
   ]
  },
  {
   "cell_type": "code",
   "execution_count": 3,
   "metadata": {},
   "outputs": [
    {
     "data": {
      "text/plain": [
       "array([[0.20234508, 7.88828353, 0.02038147],\n",
       "       [4.26051136, 0.01136202, 0.13032194],\n",
       "       [3.00401586, 0.9432984 , 0.45683147],\n",
       "       [3.82063421, 6.34826404, 0.02934076],\n",
       "       [0.67937996, 0.11567693, 0.43565296],\n",
       "       [0.03353334, 0.20308937, 0.03867607],\n",
       "       [1.36962411, 0.05922126, 0.57538311],\n",
       "       [0.24502614, 1.88198538, 0.03374193]])"
      ]
     },
     "execution_count": 3,
     "metadata": {},
     "output_type": "execute_result"
    }
   ],
   "source": [
    "data * data"
   ]
  },
  {
   "cell_type": "markdown",
   "metadata": {},
   "source": [
    "### Exercise 3\n",
    "\n",
    "Create a ndarray from first 1000 integers. The array can be of any shape"
   ]
  },
  {
   "cell_type": "code",
   "execution_count": 7,
   "metadata": {},
   "outputs": [],
   "source": [
    "x = np.arange(1000)"
   ]
  },
  {
   "cell_type": "markdown",
   "metadata": {},
   "source": [
    "### Exercise 4\n",
    "\n",
    "Create a ndarray of shape (8,4)  of zeros"
   ]
  },
  {
   "cell_type": "code",
   "execution_count": 8,
   "metadata": {
    "collapsed": true
   },
   "outputs": [],
   "source": [
    "a = np.zeros((8,4))"
   ]
  },
  {
   "cell_type": "markdown",
   "metadata": {},
   "source": [
    "### Exercise 5\n",
    "\n",
    "Create two random ndarrays of shape (6,2) called arr and arr2. Create a boolean array arr3 where arr3 = arr > arr2"
   ]
  },
  {
   "cell_type": "code",
   "execution_count": 10,
   "metadata": {},
   "outputs": [
    {
     "data": {
      "text/plain": [
       "array([[ True, False],\n",
       "       [ True, False],\n",
       "       [ True,  True],\n",
       "       [ True, False],\n",
       "       [False,  True],\n",
       "       [False,  True]])"
      ]
     },
     "execution_count": 10,
     "metadata": {},
     "output_type": "execute_result"
    }
   ],
   "source": [
    "arr = np.random.randn(6,2)\n",
    "arr2 = np.random.randn(6,2)\n",
    "arr > arr2"
   ]
  },
  {
   "cell_type": "markdown",
   "metadata": {},
   "source": [
    "### Exercise 6\n",
    "\n",
    "From ex 5, use np.where to pick elements from arr if arr > arr2 else pick elements from arr2"
   ]
  },
  {
   "cell_type": "code",
   "execution_count": 11,
   "metadata": {},
   "outputs": [
    {
     "data": {
      "text/plain": [
       "array([[-0.26175724,  1.06966676],\n",
       "       [ 1.04798689,  1.41724759],\n",
       "       [ 0.60813774,  0.48281068],\n",
       "       [-0.60422745,  1.56400128],\n",
       "       [ 0.68468417,  0.77350185],\n",
       "       [-0.24258911, -0.20030693]])"
      ]
     },
     "execution_count": 11,
     "metadata": {},
     "output_type": "execute_result"
    }
   ],
   "source": [
    "np.where(arr > arr2, arr, arr2)"
   ]
  },
  {
   "cell_type": "markdown",
   "metadata": {},
   "source": [
    "### Exercise 7\n",
    "\n",
    "Let a = np.arange(10)\n",
    "\n",
    "(a) Print second element of a. There is zero based indexing<br>\n",
    "(b) Print elements 2 to 5<br>\n",
    "(c) Print last element<br>\n",
    "(d) Print second last element<br>\n",
    "(e) Assign 999 to elemtns 5 to 8<br>"
   ]
  },
  {
   "cell_type": "code",
   "execution_count": 14,
   "metadata": {},
   "outputs": [
    {
     "name": "stdout",
     "output_type": "stream",
     "text": [
      "1\n",
      "[2 3 4]\n",
      "9\n",
      "8\n",
      "[999 999 999]\n"
     ]
    }
   ],
   "source": [
    "### Your code here\n",
    "a = np.arange(10)\n",
    "print(a[1]) # (a)\n",
    "print(a[2:5]) # (b)\n",
    "print(a[-1]) # (c)\n",
    "print(a[-2]) # (d)\n",
    "a[4:7] = 999\n",
    "print(a[4:7])"
   ]
  },
  {
   "cell_type": "markdown",
   "metadata": {},
   "source": [
    "### Exercise 8\n",
    "\n",
    "Create an array of shape (8,7). Call it data <br>\n",
    "\n",
    "There is zero base indexing\n",
    "(a) Print the element (4,4) <br>\n",
    "(b) Print all rows and 1st column <br>\n",
    "(c) Print 2nd row and all columns <br>\n",
    "(d) Print 2nd row onwards and 3rd col onwards <br>\n",
    "(e) Print upto 3rd row and upto 5th col <br>"
   ]
  },
  {
   "cell_type": "code",
   "execution_count": 16,
   "metadata": {},
   "outputs": [
    {
     "name": "stdout",
     "output_type": "stream",
     "text": [
      "-0.8034522284936155\n",
      "[ 0.22053089 -1.02699131 -0.88228436 -0.76980817 -0.73955532 -0.29503812\n",
      "  0.04398879  0.21184288]\n",
      "[-1.02699131  0.34560187  0.49801496 -0.26323538  0.59358642  0.1985029\n",
      " -0.79094302]\n",
      "[[ 0.49801496 -0.26323538  0.59358642  0.1985029  -0.79094302]\n",
      " [ 0.28469716  0.71175928  0.03713838  0.66741085 -1.08870951]\n",
      " [ 0.51278451  0.10454816  2.29240131  0.88091146 -0.38523503]\n",
      " [-0.01802114  0.9875642  -0.80345223  2.72548097  0.45955082]\n",
      " [-0.37700918  0.03608339  0.0864277   1.31060113 -0.31507528]\n",
      " [ 0.1150933   0.55139205  1.25125311  0.11675944 -0.78310794]\n",
      " [ 0.97862059 -0.0471019   0.82830956 -0.2764588  -1.89122534]]\n",
      "[[ 0.22053089 -0.00972734 -0.11278078  0.3242131   0.05398462]\n",
      " [-1.02699131  0.34560187  0.49801496 -0.26323538  0.59358642]]\n"
     ]
    }
   ],
   "source": [
    "### Your code here\n",
    "data = np.random.randn(8,7)\n",
    "print(data[4,4])\n",
    "print(data[:,0])\n",
    "print(data[1,:])\n",
    "print(data[1:, 2:])\n",
    "print(data[:2, :5])"
   ]
  },
  {
   "cell_type": "markdown",
   "metadata": {},
   "source": [
    "### Exercise 9\n",
    "\n",
    "names = np.array(['Bob', 'Joe', 'Will', 'Bob', 'Will', 'Joe', 'Joe'])<br>\n",
    "Print elements of array from ex 8 where index is names == 'Joe'<br>"
   ]
  },
  {
   "cell_type": "code",
   "execution_count": 18,
   "metadata": {},
   "outputs": [
    {
     "name": "stdout",
     "output_type": "stream",
     "text": [
      "[[-0.00972734  1.14920239 -0.82779933]\n",
      " [ 0.34560187  0.1985029  -0.79094302]\n",
      " [ 0.49545711  0.66741085 -1.08870951]\n",
      " [-1.45597247  0.88091146 -0.38523503]\n",
      " [-0.06051357  2.72548097  0.45955082]\n",
      " [ 0.49641004  1.31060113 -0.31507528]\n",
      " [-0.24681095  0.11675944 -0.78310794]\n",
      " [ 1.62380854 -0.2764588  -1.89122534]]\n"
     ]
    }
   ],
   "source": [
    "### Your code here\n",
    "names = np.array(['Bob', 'Joe', 'Will', 'Bob', 'Will', 'Joe', 'Joe'])\n",
    "print(data[:,names == 'Joe'])"
   ]
  },
  {
   "cell_type": "markdown",
   "metadata": {},
   "source": [
    "### Exercise 10\n",
    "\n",
    "(a) Print all elements of data where data < 0 <br>\n",
    "(b) Print all elements of data where data > 0 <br>"
   ]
  },
  {
   "cell_type": "code",
   "execution_count": 19,
   "metadata": {},
   "outputs": [
    {
     "name": "stdout",
     "output_type": "stream",
     "text": [
      "[-0.00972734 -0.11278078 -0.82779933 -1.02699131 -0.26323538 -0.79094302\n",
      " -0.88228436 -1.08870951 -0.76980817 -1.45597247 -0.38523503 -0.73955532\n",
      " -0.06051357 -0.01802114 -0.80345223 -0.29503812 -0.37700918 -0.31507528\n",
      " -0.24681095 -0.78310794 -0.0471019  -0.2764588  -1.89122534]\n",
      "[0.22053089 0.3242131  0.05398462 1.14920239 0.34560187 0.49801496\n",
      " 0.59358642 0.1985029  0.49545711 0.28469716 0.71175928 0.03713838\n",
      " 0.66741085 0.51278451 0.10454816 2.29240131 0.88091146 0.9875642\n",
      " 2.72548097 0.45955082 0.49641004 0.03608339 0.0864277  1.31060113\n",
      " 0.04398879 0.1150933  0.55139205 1.25125311 0.11675944 0.21184288\n",
      " 1.62380854 0.97862059 0.82830956]\n"
     ]
    }
   ],
   "source": [
    "### Your code here\n",
    "print(data[data < 0])\n",
    "print(data[data > 0])"
   ]
  },
  {
   "cell_type": "markdown",
   "metadata": {},
   "source": [
    "### Exercise 11\n",
    "\n",
    "Print elements (1,0), (5,3), (6,1), (2,2) of data in a single command"
   ]
  },
  {
   "cell_type": "code",
   "execution_count": 20,
   "metadata": {},
   "outputs": [
    {
     "data": {
      "text/plain": [
       "array([-1.02699131,  0.03608339, -0.24681095,  0.49801496])"
      ]
     },
     "execution_count": 20,
     "metadata": {},
     "output_type": "execute_result"
    }
   ],
   "source": [
    "### Your code here\n",
    "data[[1,5,6,1], [0,3,1,2]]"
   ]
  },
  {
   "cell_type": "markdown",
   "metadata": {},
   "source": [
    "### Exercise 12 \n",
    "\n",
    "Create an array of shape (2,3,4) from first 24 integers\n",
    "\n",
    "(a) transpose the axes, so axis 1, axis 0, axis 2 of arr means shape is (3,2,4)\n",
    "(b) swap axes 1 and 2"
   ]
  },
  {
   "cell_type": "code",
   "execution_count": 24,
   "metadata": {},
   "outputs": [],
   "source": [
    "### your code here\n",
    "data = np.arange(24).reshape(2,3,4)\n",
    "a = data.transpose(1,0,2)\n",
    "b = data.swapaxes(1,2)"
   ]
  },
  {
   "cell_type": "markdown",
   "metadata": {},
   "source": [
    "### Exercise 13\n",
    "\n",
    "(a) Using np.linspace create 1000 points between -5 and 5 <br>\n",
    "(b) Using np.arange create 1000 equally spaced points between -5 and 5"
   ]
  },
  {
   "cell_type": "code",
   "execution_count": 26,
   "metadata": {},
   "outputs": [],
   "source": [
    "### Your code here\n",
    "np.linspace(-5,5,1000)\n",
    "np.arange(-5,5,0.01)"
   ]
  },
  {
   "cell_type": "markdown",
   "metadata": {},
   "source": [
    "### Exercise 14\n",
    "\n",
    "Create a random numpy array of shape (5,4)\n",
    "\n",
    "(a) Calculate the mean of the array along the column axis, axis=1 <br>\n",
    "(b) Calculate the cumulative sum along the row axis"
   ]
  },
  {
   "cell_type": "code",
   "execution_count": 27,
   "metadata": {},
   "outputs": [
    {
     "data": {
      "text/plain": [
       "array([[-2.29798472e-01, -1.02979082e+00,  2.13347259e-03,\n",
       "        -2.32452541e-01],\n",
       "       [-6.40598106e-02, -8.19623933e-02, -6.02925595e-01,\n",
       "         9.96270622e-03],\n",
       "       [-4.79019522e-02, -2.36525826e+00, -1.15624249e+00,\n",
       "        -2.69027860e+00],\n",
       "       [ 1.82465843e+00, -1.76787382e+00, -2.90114301e-01,\n",
       "        -1.46468248e+00],\n",
       "       [ 6.83535055e-01, -7.55046163e-01, -3.04238581e-01,\n",
       "        -1.97925791e+00]])"
      ]
     },
     "execution_count": 27,
     "metadata": {},
     "output_type": "execute_result"
    }
   ],
   "source": [
    "### Your code here\n",
    "data = np.random.randn(5,4)\n",
    "data.mean(axis=1)\n",
    "data.cumsum(axis=0)"
   ]
  },
  {
   "cell_type": "markdown",
   "metadata": {},
   "source": [
    "### Exercise 15\n",
    "\n",
    "(a) For the array in ex 14, find number of elements > 0 in a single command <br>\n",
    "(b) Save the numpy array to disk <br>\n",
    "(c) Load the numpy array from disk <br>\n",
    "(d) Expand the array in ex 14 to 3 dimensions. You can place the extra axis anywhere.\n",
    "(e) Broadcasting: Add np.array([1,-2, 3, 5]) to each of the columns"
   ]
  },
  {
   "cell_type": "code",
   "execution_count": 29,
   "metadata": {},
   "outputs": [
    {
     "name": "stdout",
     "output_type": "stream",
     "text": [
      "10\n"
     ]
    }
   ],
   "source": [
    "### Your code here\n",
    "print((data > 0).sum())\n",
    "np.save('../cache/a', a)\n",
    "\n",
    "data = data + np.array([1,-2,3,5])"
   ]
  },
  {
   "cell_type": "code",
   "execution_count": null,
   "metadata": {
    "collapsed": true
   },
   "outputs": [],
   "source": []
  }
 ],
 "metadata": {
  "kernelspec": {
   "display_name": "itv",
   "language": "python",
   "name": "itv"
  },
  "language_info": {
   "codemirror_mode": {
    "name": "ipython",
    "version": 3
   },
   "file_extension": ".py",
   "mimetype": "text/x-python",
   "name": "python",
   "nbconvert_exporter": "python",
   "pygments_lexer": "ipython3",
   "version": "3.6.3"
  }
 },
 "nbformat": 4,
 "nbformat_minor": 2
}
